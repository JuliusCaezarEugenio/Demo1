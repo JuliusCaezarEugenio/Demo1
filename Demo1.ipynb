{
  "nbformat": 4,
  "nbformat_minor": 0,
  "metadata": {
    "colab": {
      "name": "Demo1.ipynb",
      "provenance": [],
      "authorship_tag": "ABX9TyPwc68m9htawO+FSJV+WDha",
      "include_colab_link": true
    },
    "kernelspec": {
      "name": "python3",
      "display_name": "Python 3"
    },
    "language_info": {
      "name": "python"
    }
  },
  "cells": [
    {
      "cell_type": "markdown",
      "metadata": {
        "id": "view-in-github",
        "colab_type": "text"
      },
      "source": [
        "<a href=\"https://colab.research.google.com/github/JuliusCaezarEugenio/Demo1/blob/main/Demo1.ipynb\" target=\"_parent\"><img src=\"https://colab.research.google.com/assets/colab-badge.svg\" alt=\"Open In Colab\"/></a>"
      ]
    },
    {
      "cell_type": "markdown",
      "metadata": {
        "id": "wRAar_-8mZ6x"
      },
      "source": [
        "##Introduction to Python Programming\n"
      ]
    },
    {
      "cell_type": "code",
      "metadata": {
        "colab": {
          "base_uri": "https://localhost:8080/"
        },
        "id": "JXUIr_aDnwK2",
        "outputId": "6a9b9909-b177-4e92-abb5-2417115c88fd"
      },
      "source": [
        "  b = \"Sally\"\n",
        "  print(b)"
      ],
      "execution_count": 6,
      "outputs": [
        {
          "output_type": "stream",
          "name": "stdout",
          "text": [
            "Sally\n"
          ]
        }
      ]
    },
    {
      "cell_type": "code",
      "metadata": {
        "colab": {
          "base_uri": "https://localhost:8080/"
        },
        "id": "nIWvgUkEplWm",
        "outputId": "75dbc610-b02d-40a9-e7eb-dd7f8535a17a"
      },
      "source": [
        "  b = \"Sally\"\n",
        "  print(type(b))  "
      ],
      "execution_count": 10,
      "outputs": [
        {
          "output_type": "stream",
          "name": "stdout",
          "text": [
            "<class 'str'>\n"
          ]
        }
      ]
    },
    {
      "cell_type": "markdown",
      "metadata": {
        "id": "WLvO0Rt7oQ49"
      },
      "source": [
        "#Naming Variables"
      ]
    },
    {
      "cell_type": "code",
      "metadata": {
        "colab": {
          "base_uri": "https://localhost:8080/"
        },
        "id": "vc1pnXeQpHlf",
        "outputId": "0373c201-c703-4597-85d5-b7f17afb0f5e"
      },
      "source": [
        "a = 'Sally'\n",
        "A = \"John\"\n",
        "print(a)\n",
        "print(A)"
      ],
      "execution_count": 11,
      "outputs": [
        {
          "output_type": "stream",
          "name": "stdout",
          "text": [
            "Sally\n",
            "John\n"
          ]
        }
      ]
    },
    {
      "cell_type": "code",
      "metadata": {
        "colab": {
          "base_uri": "https://localhost:8080/"
        },
        "id": "uaEEsX2ep1Iv",
        "outputId": "b2436c22-a5aa-468b-d1e6-0ff21a006ccb"
      },
      "source": [
        "a, b, c = 0, 1, 2\n",
        "print(type(a))            #This is a program using typing function\n",
        "print(b)\n",
        "print(c)"
      ],
      "execution_count": 13,
      "outputs": [
        {
          "output_type": "stream",
          "name": "stdout",
          "text": [
            "<class 'int'>\n",
            "1\n",
            "2\n"
          ]
        }
      ]
    },
    {
      "cell_type": "code",
      "metadata": {
        "colab": {
          "base_uri": "https://localhost:8080/"
        },
        "id": "3aug3FOQqPr1",
        "outputId": "7dc00128-3702-4c4c-a989-f139eb0702a7"
      },
      "source": [
        "  a = 4.50\n",
        "  print(type(a))"
      ],
      "execution_count": 14,
      "outputs": [
        {
          "output_type": "stream",
          "name": "stdout",
          "text": [
            "<class 'float'>\n"
          ]
        }
      ]
    },
    {
      "cell_type": "markdown",
      "metadata": {
        "id": "E00ZOIaaqm69"
      },
      "source": [
        "##One Value to Multiple Variables"
      ]
    },
    {
      "cell_type": "code",
      "metadata": {
        "colab": {
          "base_uri": "https://localhost:8080/"
        },
        "id": "TZx_mGI5qrbm",
        "outputId": "7e453312-3f05-40ef-8050-14f01f11c506"
      },
      "source": [
        "  x = y = z = \"four\"\n",
        "  print(x)\n",
        "  print(y)\n",
        "  print(z)"
      ],
      "execution_count": 15,
      "outputs": [
        {
          "output_type": "stream",
          "name": "stdout",
          "text": [
            "four\n",
            "four\n",
            "four\n"
          ]
        }
      ]
    },
    {
      "cell_type": "code",
      "metadata": {
        "colab": {
          "base_uri": "https://localhost:8080/"
        },
        "id": "6GNJXaIirhZY",
        "outputId": "a7686987-1c57-48b1-f784-51474110f105"
      },
      "source": [
        "  x = \"enjoying\"\n",
        "  print(\"Python programming is \"+ x)"
      ],
      "execution_count": 16,
      "outputs": [
        {
          "output_type": "stream",
          "name": "stdout",
          "text": [
            "Python programming is enjoying\n"
          ]
        }
      ]
    },
    {
      "cell_type": "code",
      "metadata": {
        "colab": {
          "base_uri": "https://localhost:8080/"
        },
        "id": "6YzGdTVfruz-",
        "outputId": "d514c2e4-bd56-462d-d2f7-2a4fdcdb2539"
      },
      "source": [
        "x = 4\n",
        "y = 5\n",
        "print(x+y)\n",
        "print(x-y)"
      ],
      "execution_count": 17,
      "outputs": [
        {
          "output_type": "stream",
          "name": "stdout",
          "text": [
            "9\n",
            "-1\n"
          ]
        }
      ]
    },
    {
      "cell_type": "code",
      "metadata": {
        "colab": {
          "base_uri": "https://localhost:8080/"
        },
        "id": "MdeWhg98r14f",
        "outputId": "65fbb723-3701-41f2-b60c-075b9e145cee"
      },
      "source": [
        "not(x>y or x==x)      #This is an example of program using logical operator"
      ],
      "execution_count": 18,
      "outputs": [
        {
          "output_type": "execute_result",
          "data": {
            "text/plain": [
              "False"
            ]
          },
          "metadata": {},
          "execution_count": 18
        }
      ]
    }
  ]
}